{
  "nbformat": 4,
  "nbformat_minor": 0,
  "metadata": {
    "kernelspec": {
      "display_name": "Python 3",
      "language": "python",
      "name": "python3"
    },
    "language_info": {
      "codemirror_mode": {
        "name": "ipython",
        "version": 3
      },
      "file_extension": ".py",
      "mimetype": "text/x-python",
      "name": "python",
      "nbconvert_exporter": "python",
      "pygments_lexer": "ipython3",
      "version": "3.7.3"
    },
    "colab": {
      "name": "Tarefa5 - RNA MPL backward.ipynb",
      "provenance": [],
      "collapsed_sections": []
    }
  },
  "cells": [
    {
      "cell_type": "markdown",
      "metadata": {
        "id": "Iqgn-iaaZYJk"
      },
      "source": [
        "# Rede Neural Multicamadas (MPL)\n",
        "Uma rede MPL é uma classe de rede neural artificial *feedforward* (ANN). Um MLP consiste em pelo menos três camadas de nós: uma camada de entrada , uma camada oculta e uma camada de saída . Exceto para os nós de entrada, cada nó é um neurônio que usa uma função de ativação não linear . O MLP utiliza uma técnica de aprendizado supervisionado chamada *backpropagation* para treinamento.\n",
        "\n",
        "\n",
        "\n",
        "### Implementando uma RNA multicamadas\n",
        "\n",
        "A imagem a seguir mostra a nossa rede, com as unidades de entrada marcadas como Input1, Input2 e Input3 (**Input Layer**) conectadas com os *nós* da camada oculta (**Hidden Layer**). Por sua vez as saída dos *nós* da camada oculda servem como entrada para os *nós*  da camada de saída (**Output Layer**). <img src='MPL.png' /><br>\n",
        "\n",
        "<p style=\"text-align:center\">  <i> Diagrama de uma MPL</i> </p>\n",
        " \n",
        "\n",
        "Lembrando que em cada *nó* temos: \n",
        "\n",
        "$$f(h) = sigmoid(h)=\\frac 1 {1+e^{-h}}$$  \n",
        "\n",
        "onde\n",
        "\n",
        "<p style=\"text-align:center\"> $$h = \\frac 1n\\sum_{i=1}^n(w_i*x_i)+b$$  </p>\n",
        "\n",
        "\n",
        "\n",
        "\n",
        "    \n",
        "\n"
      ]
    },
    {
      "cell_type": "markdown",
      "metadata": {
        "id": "yiCEKBHJZYJt"
      },
      "source": [
        "## Configuração da MPL"
      ]
    },
    {
      "cell_type": "code",
      "metadata": {
        "id": "WptG1gctZYJv"
      },
      "source": [
        "#Importando a biblioteca\n",
        "import numpy as np\n",
        "\n",
        "#Função do cáculo da sigmóide\n",
        "def sigmoid(x):\n",
        "    return 1/(1+np.exp(-x))\n",
        "\n",
        "#Arquitetura da MPL\n",
        "N_input = 3\n",
        "N_hidden = 4\n",
        "N_output = 2\n",
        "\n",
        "#Vetor dos valores de entrada\n",
        "x = np.array([0.5, 0.1, -0.2])\n",
        "target =np.array([0.3, 0.8])\n",
        "learnrate = 0.5\n",
        "\n",
        "#Pesos da Camada Oculta\n",
        "\n",
        "weights_input_hidden = np.array([[-0.08,  0.08, -0.03, 0.03],\n",
        "                              [ 0.05,  0.10,  0.07, 0.02],\n",
        "                              [-0.07,  0.04, -0.01, 0.01]])\n",
        "\n",
        "#Pesos da Camada de Saída\n",
        "weights_hidden_output = np.array([[-0.18,  0.11],\n",
        "                               [-0.09,  0.05],\n",
        "                               [-0.04,  0.05],\n",
        "                               [-0.02,  0.07]])\n",
        "\n"
      ],
      "execution_count": 1,
      "outputs": []
    },
    {
      "cell_type": "markdown",
      "metadata": {
        "id": "iCcyzAOtZYJz"
      },
      "source": [
        "### Forward Pass"
      ]
    },
    {
      "cell_type": "code",
      "metadata": {
        "scrolled": true,
        "colab": {
          "base_uri": "https://localhost:8080/"
        },
        "id": "GmiumDEtZYJ1",
        "outputId": "c56282c7-2a27-4a05-ba1d-6c0da24da552"
      },
      "source": [
        "#Camada oculta\n",
        "\n",
        "#Calcule a combinação linear de entradas e pesos sinápticos\n",
        "hidden_layer_input = np.dot(x, weights_input_hidden)\n",
        "#Aplicado a função de ativação\n",
        "hidden_layer_output = sigmoid(hidden_layer_input)\n",
        "\n",
        "#Camada de Saída\n",
        "\n",
        "#Calcule a combinação linear de entradas e pesos sinápticos\n",
        "output_layer_in = np.dot(hidden_layer_output, weights_hidden_output)\n",
        "\n",
        "#Aplicado a função de ativação \n",
        "output = sigmoid(output_layer_in)\n",
        "\n",
        "print('As saídas da rede são',output)\n"
      ],
      "execution_count": 2,
      "outputs": [
        {
          "output_type": "stream",
          "text": [
            "As saídas da rede são [0.45883963 0.53497652]\n"
          ],
          "name": "stdout"
        }
      ]
    },
    {
      "cell_type": "markdown",
      "metadata": {
        "id": "1HefY147ZYJ2"
      },
      "source": [
        "## Backward Pass"
      ]
    },
    {
      "cell_type": "code",
      "metadata": {
        "scrolled": true,
        "colab": {
          "base_uri": "https://localhost:8080/"
        },
        "id": "d_VcKRN4ZYJ4",
        "outputId": "1d6d6700-9cb6-4c1f-f40e-8e9ed33f2401"
      },
      "source": [
        "\n",
        "## TODO: Cálculo do Erro\n",
        "error = target - output\n",
        "#print('Erro da Rede: ',error)\n",
        "\n",
        "# TODO: Calcule o termo de erro de saída (Gradiente da Camada de Saída)\n",
        "output_error_term = error * output * (1 - output)\n",
        "\n",
        "# TODO: Calcule a contribuição da camada oculta para o erro\n",
        "hidden_error = np.dot(weights_hidden_output, output_error_term)\n",
        "\n",
        "# TODO: Calcule o termo de erro da camada oculta (Gradiente da Camada Oculta)\n",
        "hidden_error_term = hidden_error * hidden_layer_output * (1 - hidden_layer_output)\n",
        "\n",
        "# TODO: Calcule a variação do peso da camada de saída\n",
        "delta_w_h_o = learnrate * output_error_term*hidden_layer_output[:, None]\n",
        "print('delta_w_h_o: ',delta_w_h_o)\n",
        "\n",
        "# TODO: Calcule a variação do peso da camada oculta\n",
        "delta_w_i_h = learnrate * hidden_error_term * x[:, None]\n",
        "print('delta_w_i_h: ',delta_w_i_h)\n",
        "\n"
      ],
      "execution_count": 3,
      "outputs": [
        {
          "output_type": "stream",
          "text": [
            "delta_w_h_o:  [[-0.00975667  0.01630985]\n",
            " [-0.01006724  0.016829  ]\n",
            " [-0.00983062  0.01643346]\n",
            " [-0.00993415  0.01660653]]\n",
            "delta_w_i_h:  [[ 8.96890297e-04  4.27702305e-04  3.04635689e-04  3.37732992e-04]\n",
            " [ 1.79378059e-04  8.55404611e-05  6.09271378e-05  6.75465983e-05]\n",
            " [-3.58756119e-04 -1.71080922e-04 -1.21854276e-04 -1.35093197e-04]]\n"
          ],
          "name": "stdout"
        }
      ]
    },
    {
      "cell_type": "markdown",
      "metadata": {
        "id": "X3zFsmPaZYJ6"
      },
      "source": [
        "### Atualização dos Pesos"
      ]
    },
    {
      "cell_type": "code",
      "metadata": {
        "colab": {
          "base_uri": "https://localhost:8080/"
        },
        "id": "sHD8jHlSZYJ7",
        "outputId": "b11c6794-d1d3-409a-aec4-e942c33257d9"
      },
      "source": [
        "weights_input_hidden = learnrate * delta_w_i_h\n",
        "print('weights_input_hidden: ',weights_input_hidden)\n",
        "weights_hidden_output = learnrate * delta_w_h_o\n",
        "print('weights_hidden_output: ',weights_hidden_output)"
      ],
      "execution_count": 4,
      "outputs": [
        {
          "output_type": "stream",
          "text": [
            "weights_input_hidden:  [[ 4.48445149e-04  2.13851153e-04  1.52317845e-04  1.68866496e-04]\n",
            " [ 8.96890297e-05  4.27702305e-05  3.04635689e-05  3.37732992e-05]\n",
            " [-1.79378059e-04 -8.55404611e-05 -6.09271378e-05 -6.75465983e-05]]\n",
            "weights_hidden_output:  [[-0.00487834  0.00815492]\n",
            " [-0.00503362  0.0084145 ]\n",
            " [-0.00491531  0.00821673]\n",
            " [-0.00496708  0.00830327]]\n"
          ],
          "name": "stdout"
        }
      ]
    }
  ]
}