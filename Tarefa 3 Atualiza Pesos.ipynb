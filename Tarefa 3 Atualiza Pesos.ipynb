{
  "nbformat": 4,
  "nbformat_minor": 0,
  "metadata": {
    "kernelspec": {
      "display_name": "Python 3",
      "language": "python",
      "name": "python3"
    },
    "language_info": {
      "codemirror_mode": {
        "name": "ipython",
        "version": 3
      },
      "file_extension": ".py",
      "mimetype": "text/x-python",
      "name": "python",
      "nbconvert_exporter": "python",
      "pygments_lexer": "ipython3",
      "version": "3.7.3"
    },
    "colab": {
      "name": "Tarefa 3 - AtualizaPesos.ipynb",
      "provenance": [],
      "collapsed_sections": []
    }
  },
  "cells": [
    {
      "cell_type": "markdown",
      "metadata": {
        "id": "Hw4lwEb7WkHx"
      },
      "source": [
        "# Gradiente Descendente\n",
        "\n",
        "O gradiente descendente é um algoritmo de otimização que usa as derivadas da função objetivo\n",
        "para encontrar o ponto com maior inclinação. No processo, as variáveis a otimizar são deslocadas\n",
        "em uma direção negativa o qual reduzirá o valor da função objetivo.\n",
        "\n",
        "Algoritmo geral para atualizar os pesos com gradiente descendente:\n",
        "<p>\n",
        "<img src='RNA-Gradiente.png' /><br>\n",
        "</p>"
      ]
    },
    {
      "cell_type": "markdown",
      "metadata": {
        "id": "WWjEKtXzWkH6"
      },
      "source": [
        "## Vamos implementar o algoritmo do Gradiente Descendente!\n",
        "#### Importando a biblioteca"
      ]
    },
    {
      "cell_type": "code",
      "metadata": {
        "id": "GnXrPL3VWkH8"
      },
      "source": [
        "import numpy as np"
      ],
      "execution_count": 1,
      "outputs": []
    },
    {
      "cell_type": "markdown",
      "metadata": {
        "id": "QvuuE-SVWkH-"
      },
      "source": [
        "#### Função do cáculo da sigmóide"
      ]
    },
    {
      "cell_type": "code",
      "metadata": {
        "id": "l8k4yXCHWkH_"
      },
      "source": [
        "def sigmoid(x):\n",
        "    return 1/(1+np.exp(-x))"
      ],
      "execution_count": 2,
      "outputs": []
    },
    {
      "cell_type": "markdown",
      "metadata": {
        "id": "3m6IEm2vWkIA"
      },
      "source": [
        "#### Derivada da função sigmóide"
      ]
    },
    {
      "cell_type": "code",
      "metadata": {
        "id": "VPMmNwgmWkIB"
      },
      "source": [
        "def sigmoid_prime(x):\n",
        "    return sigmoid(x) * (1 - sigmoid(x))"
      ],
      "execution_count": 3,
      "outputs": []
    },
    {
      "cell_type": "markdown",
      "metadata": {
        "id": "w4wKc-E4WkID"
      },
      "source": [
        "#### Vetor dos valores de entrada e saídas"
      ]
    },
    {
      "cell_type": "code",
      "metadata": {
        "id": "A1yGW2O9WkIE"
      },
      "source": [
        "x = np.array([1, 2, 3, 4])\n",
        "y = np.array(0.5)\n",
        "b= 0.3"
      ],
      "execution_count": 7,
      "outputs": []
    },
    {
      "cell_type": "markdown",
      "metadata": {
        "id": "v18IOl81WkIG"
      },
      "source": [
        "#### Pesos iniciais das ligações sinápticas \n",
        "Nota: Inicializados aleatóriamente"
      ]
    },
    {
      "cell_type": "code",
      "metadata": {
        "id": "JyGrVTYZWkIH"
      },
      "source": [
        "w = np.array([0.5, -0.5, 0.3, 0.1])"
      ],
      "execution_count": 8,
      "outputs": []
    },
    {
      "cell_type": "markdown",
      "metadata": {
        "id": "VBsTgQK0WkII"
      },
      "source": [
        "#### Taxa de Aprendizagem"
      ]
    },
    {
      "cell_type": "code",
      "metadata": {
        "id": "_xDXE-kmWkIJ"
      },
      "source": [
        "learnrate = 0.5"
      ],
      "execution_count": 6,
      "outputs": []
    },
    {
      "cell_type": "markdown",
      "metadata": {
        "id": "CRRQ2bdzWkIK"
      },
      "source": [
        "### Calcule um degrau de descida gradiente para cada peso"
      ]
    },
    {
      "cell_type": "markdown",
      "metadata": {
        "id": "XU4UZLkTWkIL"
      },
      "source": [
        "#### Critério de parada\n",
        "* **Epochs**: Número de Épocas\n",
        "* **MinError**: Erro mínimo estipulado\n"
      ]
    },
    {
      "cell_type": "code",
      "metadata": {
        "colab": {
          "base_uri": "https://localhost:8080/"
        },
        "id": "pcDVQAXkWkIM",
        "outputId": "6aa55ff6-2f7d-4817-c086-d02fe87208b9"
      },
      "source": [
        "#Número de Épocas\n",
        "epochs= 30\n",
        "\n",
        "#Inicilizando del_w\n",
        "del_w= 0\n",
        "\n",
        "for e in range(epochs):\n",
        "    # TODO: Calcule a combinação linear de entradas e pesos sinápticos\n",
        "    h = np.dot(x, w)+b\n",
        "\n",
        "    # TODO: Calcule a saída da Rede Neural\n",
        "    output = sigmoid(h)\n",
        "\n",
        "    # TODO: Calculate error of neural network\n",
        "    error = y - output\n",
        "\n",
        "    # TODO: Calcule o termo de erro\n",
        "    error_term = error * sigmoid_prime(h)\n",
        "\n",
        "    # TODO: Calcule a variação do peso\n",
        "    del_w += learnrate * error_term * x\n",
        "\n",
        "    # TODO: Atualização do Peso\n",
        "    w = w + del_w\n",
        "\n",
        "    print('Epoca: ', e, ' Erro: ', error)\n"
      ],
      "execution_count": 10,
      "outputs": [
        {
          "output_type": "stream",
          "text": [
            "Epoca:  0  Erro:  -0.2502601055951177\n",
            "Epoca:  1  Erro:  -0.09787817257142106\n",
            "Epoca:  2  Erro:  0.1591961459553925\n",
            "Epoca:  3  Erro:  0.26487462096487707\n",
            "Epoca:  4  Erro:  0.2280874277894538\n",
            "Epoca:  5  Erro:  0.028207539236141665\n",
            "Epoca:  6  Erro:  -0.20359621887985802\n",
            "Epoca:  7  Erro:  -0.26941634865110176\n",
            "Epoca:  8  Erro:  -0.19605422023109864\n",
            "Epoca:  9  Erro:  0.04240503858878425\n",
            "Epoca:  10  Erro:  0.23316891727494382\n",
            "Epoca:  11  Erro:  0.262649681965178\n",
            "Epoca:  12  Erro:  0.1480797910063683\n",
            "Epoca:  13  Erro:  -0.11126591409300546\n",
            "Epoca:  14  Erro:  -0.25385839165340895\n",
            "Epoca:  15  Erro:  -0.24637750776316536\n",
            "Epoca:  16  Erro:  -0.08416372532974326\n",
            "Epoca:  17  Erro:  0.1695778945557812\n",
            "Epoca:  18  Erro:  0.26668259591057775\n",
            "Epoca:  19  Erro:  0.22262205754757453\n",
            "Epoca:  20  Erro:  0.013997355190248528\n",
            "Epoca:  21  Erro:  -0.210527261527935\n",
            "Epoca:  22  Erro:  -0.2689484676734102\n",
            "Epoca:  23  Erro:  -0.18784685282142755\n",
            "Epoca:  24  Erro:  0.056566200366032326\n",
            "Epoca:  25  Erro:  0.23791102161771543\n",
            "Epoca:  26  Erro:  0.2600341626792274\n",
            "Epoca:  27  Erro:  0.13626979074392187\n",
            "Epoca:  28  Erro:  -0.12422050684776476\n",
            "Epoca:  29  Erro:  -0.25715376611422347\n"
          ],
          "name": "stdout"
        }
      ]
    },
    {
      "cell_type": "code",
      "metadata": {
        "colab": {
          "base_uri": "https://localhost:8080/"
        },
        "id": "Bcwl9n24WkIN",
        "outputId": "93b3f100-7c03-4dd3-8c8a-e5b88188a1d0"
      },
      "source": [
        "print('Saída da Rede Neural: ', output)\n",
        "print('Erro:',error)"
      ],
      "execution_count": 12,
      "outputs": [
        {
          "output_type": "stream",
          "text": [
            "Saída da Rede Neural:  0.7571537661142235\n",
            "Erro: -0.25715376611422347\n"
          ],
          "name": "stdout"
        }
      ]
    }
  ]
}