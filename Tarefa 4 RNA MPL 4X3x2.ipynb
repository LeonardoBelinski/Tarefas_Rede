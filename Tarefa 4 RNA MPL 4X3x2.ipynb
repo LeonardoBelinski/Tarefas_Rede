{
  "nbformat": 4,
  "nbformat_minor": 0,
  "metadata": {
    "kernelspec": {
      "display_name": "Python 3",
      "language": "python",
      "name": "python3"
    },
    "language_info": {
      "codemirror_mode": {
        "name": "ipython",
        "version": 3
      },
      "file_extension": ".py",
      "mimetype": "text/x-python",
      "name": "python",
      "nbconvert_exporter": "python",
      "pygments_lexer": "ipython3",
      "version": "3.7.3"
    },
    "colab": {
      "name": "Tarefa4 - RNA MPL 4X3x2.ipynb",
      "provenance": []
    }
  },
  "cells": [
    {
      "cell_type": "markdown",
      "metadata": {
        "id": "wBjYOWOSYO0Z"
      },
      "source": [
        "# Rede Neural Multicamadas (MPL)\n",
        "Uma rede MPL é uma classe de rede neural artificial *feedforward* (ANN). Um MLP consiste em pelo menos três camadas de nós: uma camada de entrada , uma camada oculta e uma camada de saída . Exceto para os nós de entrada, cada nó é um neurônio que usa uma função de ativação não linear . O MLP utiliza uma técnica de aprendizado supervisionado chamada *backpropagation* para treinamento.\n",
        "\n",
        "\n",
        "\n",
        "### Implementando uma RNA multicamadas\n",
        "\n",
        "A imagem a seguir mostra a nossa rede, com as unidades de entrada marcadas como Input1, Input2 e Input3 (**Input Layer**) conectadas com os *nós* da camada oculta (**Hidden Layer**). Por sua vez as saída dos *nós* da camada oculda servem como entrada para os *nós*  da camada de saída (**Output Layer**). <img src='MPL.png' /><br>\n",
        "\n",
        "<p style=\"text-align:center\">  <i> Diagrama de uma MPL</i> </p>\n",
        " \n",
        "\n",
        "Lembrando que em cada *nó* temos: \n",
        "\n",
        "$$f(h) = sigmoid(h)=\\frac 1 {1+e^{-h}}$$  \n",
        "\n",
        "onde\n",
        "\n",
        "<p style=\"text-align:center\"> $$h = \\frac 1n\\sum_{i=1}^n(w_i*x_i)+b$$  </p>\n",
        "\n",
        "\n",
        "\n",
        "\n",
        "    \n",
        "\n"
      ]
    },
    {
      "cell_type": "markdown",
      "metadata": {
        "id": "xJHNRNlgYO0i"
      },
      "source": [
        "## Vamos implementar uma RNA de apenas um neurônio!\n",
        "\n",
        "#### Importando a biblioteca"
      ]
    },
    {
      "cell_type": "code",
      "metadata": {
        "id": "LsO0LdPoYO0k"
      },
      "source": [
        "import numpy as np"
      ],
      "execution_count": 1,
      "outputs": []
    },
    {
      "cell_type": "markdown",
      "metadata": {
        "id": "R1U-Hb7IYO0n"
      },
      "source": [
        "#### Função do cáculo da sigmóide"
      ]
    },
    {
      "cell_type": "code",
      "metadata": {
        "id": "wrpcxOZlYO0o"
      },
      "source": [
        "def sigmoid(x):\n",
        "    return 1/(1+np.exp(-x))\n"
      ],
      "execution_count": 2,
      "outputs": []
    },
    {
      "cell_type": "markdown",
      "metadata": {
        "id": "KrlpqfRYYO0p"
      },
      "source": [
        "#### Arquitetura da MPL"
      ]
    },
    {
      "cell_type": "code",
      "metadata": {
        "id": "SSlBgfwUYO0r"
      },
      "source": [
        "N_input = 3\n",
        "N_hidden = 4\n",
        "N_output = 2"
      ],
      "execution_count": 3,
      "outputs": []
    },
    {
      "cell_type": "markdown",
      "metadata": {
        "id": "oBUAryOXYO0s"
      },
      "source": [
        "#### Vetor dos valores de entrada"
      ]
    },
    {
      "cell_type": "code",
      "metadata": {
        "id": "3JbZzqdEYO0t"
      },
      "source": [
        "X = np.array([1, 2, 3])"
      ],
      "execution_count": 4,
      "outputs": []
    },
    {
      "cell_type": "markdown",
      "metadata": {
        "id": "8cxsofKhYO0v"
      },
      "source": [
        "#### Pesos da Camada Oculta"
      ]
    },
    {
      "cell_type": "code",
      "metadata": {
        "id": "538xaBXeYO0w"
      },
      "source": [
        "weights_in_hidden = np.array([[-0.08,  0.08, -0.03, 0.03],\n",
        "                              [ 0.05,  0.10,  0.07, 0.02],\n",
        "                              [-0.07,  0.04, -0.01, 0.01]])"
      ],
      "execution_count": 6,
      "outputs": []
    },
    {
      "cell_type": "markdown",
      "metadata": {
        "id": "WmhQZBWFYO0x"
      },
      "source": [
        "#### Pesos da Camada de Saída"
      ]
    },
    {
      "cell_type": "code",
      "metadata": {
        "id": "CvKxhDhzYO0y"
      },
      "source": [
        "weights_hidden_out = np.array([[-0.18,  0.11],\n",
        "                               [-0.09,  0.05],\n",
        "                               [-0.04,  0.05],\n",
        "                               [-0.02,  0.07]])"
      ],
      "execution_count": 7,
      "outputs": []
    },
    {
      "cell_type": "markdown",
      "metadata": {
        "id": "mOJ7K3-jYO0z"
      },
      "source": [
        "### Passagem *forward* pela rede\n",
        "#### Camada oculta"
      ]
    },
    {
      "cell_type": "code",
      "metadata": {
        "id": "uk9LgNKUYO01"
      },
      "source": [
        "#Calcule a combinação linear de entradas e pesos sinápticos\n",
        "hidden_layer_in = np.dot(X, weights_in_hidden)\n",
        "\n",
        "#Aplicado a função de ativação\n",
        "hidden_layer_out = sigmoid(hidden_layer_in)"
      ],
      "execution_count": 8,
      "outputs": []
    },
    {
      "cell_type": "markdown",
      "metadata": {
        "id": "x6HLmmFnYO02"
      },
      "source": [
        "#### Camada de Saída"
      ]
    },
    {
      "cell_type": "code",
      "metadata": {
        "id": "koEJUn8uYO03"
      },
      "source": [
        "#Calcule a combinação linear de entradas e pesos sinápticos\n",
        "output_layer_in = np.dot(hidden_layer_out, weights_hidden_out)\n",
        "\n",
        "#Aplicado a função de ativação \n",
        "output_layer_out = sigmoid(output_layer_in)"
      ],
      "execution_count": 9,
      "outputs": []
    },
    {
      "cell_type": "code",
      "metadata": {
        "colab": {
          "base_uri": "https://localhost:8080/"
        },
        "id": "sk0dJB1gYO04",
        "outputId": "693af36a-1757-48fe-c675-e583d5f057f4"
      },
      "source": [
        "print('As saídas da rede são',output_layer_out)"
      ],
      "execution_count": 10,
      "outputs": [
        {
          "output_type": "stream",
          "text": [
            "As saídas da rede são [0.458432   0.53555814]\n"
          ],
          "name": "stdout"
        }
      ]
    }
  ]
}