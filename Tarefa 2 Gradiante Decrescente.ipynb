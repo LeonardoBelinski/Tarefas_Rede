{
  "nbformat": 4,
  "nbformat_minor": 0,
  "metadata": {
    "kernelspec": {
      "display_name": "Python 3",
      "language": "python",
      "name": "python3"
    },
    "language_info": {
      "codemirror_mode": {
        "name": "ipython",
        "version": 3
      },
      "file_extension": ".py",
      "mimetype": "text/x-python",
      "name": "python",
      "nbconvert_exporter": "python",
      "pygments_lexer": "ipython3",
      "version": "3.7.3"
    },
    "colab": {
      "name": "Tarefa 2 - Gradiante Decrescente.ipynb",
      "provenance": [],
      "collapsed_sections": []
    }
  },
  "cells": [
    {
      "cell_type": "markdown",
      "metadata": {
        "id": "G0WRINevR0wt"
      },
      "source": [
        "# Gradiente Descendente\n",
        "\n",
        "O gradiente descendente é um algoritmo de otimização que usa as derivadas da função objetivo\n",
        "para encontrar o ponto com maior inclinação. No processo, as variáveis a otimizar são deslocadas\n",
        "em uma direção negativa o qual reduzirá o valor da função objetivo.\n",
        "\n",
        "Algoritmo geral para atualizar os pesos com gradiente descendente:\n",
        "<p>\n",
        "<img src='RNA-Gradiente.png' /><br>\n",
        "</p>"
      ]
    },
    {
      "cell_type": "markdown",
      "metadata": {
        "id": "2uFnj4QqR0w3"
      },
      "source": [
        "## Vamos implementar o algoritmo do Gradiente Descendente!\n",
        "#### Importando a biblioteca"
      ]
    },
    {
      "cell_type": "code",
      "metadata": {
        "id": "9okQtRaHR0w5"
      },
      "source": [
        "import numpy as np"
      ],
      "execution_count": 1,
      "outputs": []
    },
    {
      "cell_type": "markdown",
      "metadata": {
        "id": "jjei2fBIR0w8"
      },
      "source": [
        "#### Função do cáculo da sigmóide"
      ]
    },
    {
      "cell_type": "code",
      "metadata": {
        "id": "ALRwgq35R0w9"
      },
      "source": [
        "def sigmoid(x):\n",
        "    return 1/(1+np.exp(-x))"
      ],
      "execution_count": 2,
      "outputs": []
    },
    {
      "cell_type": "markdown",
      "metadata": {
        "id": "B7D8e3b_R0w-"
      },
      "source": [
        "#### Derivada da função sigmóide"
      ]
    },
    {
      "cell_type": "code",
      "metadata": {
        "id": "EgXjDR1vR0xA"
      },
      "source": [
        "def sigmoid_prime(x):\n",
        "    return sigmoid(x) * (1 - sigmoid(x))"
      ],
      "execution_count": 3,
      "outputs": []
    },
    {
      "cell_type": "markdown",
      "metadata": {
        "id": "UHD6NssVR0xB"
      },
      "source": [
        "#### Vetor dos valores de entrada e saídas"
      ]
    },
    {
      "cell_type": "code",
      "metadata": {
        "id": "P1Tn4ts6R0xD"
      },
      "source": [
        "x = np.array([1, 2, 3, 4])\n",
        "y = np.array(0.5)"
      ],
      "execution_count": 4,
      "outputs": []
    },
    {
      "cell_type": "markdown",
      "metadata": {
        "id": "LlVRqbLjR0xE"
      },
      "source": [
        "#### Pesos iniciais das ligações sinápticas \n",
        "Nota: Inicializados aleatóriamente"
      ]
    },
    {
      "cell_type": "code",
      "metadata": {
        "id": "-__TSvmXR0xG"
      },
      "source": [
        "w = np.array([0.5, -0.5, 0.3, 0.1])"
      ],
      "execution_count": 5,
      "outputs": []
    },
    {
      "cell_type": "markdown",
      "metadata": {
        "id": "U29SidD-R0xH"
      },
      "source": [
        "#### Taxa de Aprendizagem"
      ]
    },
    {
      "cell_type": "code",
      "metadata": {
        "id": "snFddBKUR0xH"
      },
      "source": [
        "learnrate = 0.5"
      ],
      "execution_count": 7,
      "outputs": []
    },
    {
      "cell_type": "markdown",
      "metadata": {
        "id": "zZCsXvjdR0xI"
      },
      "source": [
        "### Calcule um degrau de descida gradiente para cada peso"
      ]
    },
    {
      "cell_type": "code",
      "metadata": {
        "id": "gfuRoolDU6qr"
      },
      "source": [
        "b = 0.3"
      ],
      "execution_count": 9,
      "outputs": []
    },
    {
      "cell_type": "code",
      "metadata": {
        "id": "iPBjOuA9R0xK"
      },
      "source": [
        "# TODO: Calcule a combinação linear de entradas e pesos sinápticos\n",
        "h = np.dot(x, w)+b\n",
        "\n",
        "# TODO: Calcule a saída da Rede Neural\n",
        "nn_output = sigmoid(h)\n",
        "\n",
        "# TODO: Calcule o erro da Rede Neural\n",
        "error = y - nn_output\n",
        "\n",
        "# TODO: Calcule o termo de erro\n",
        "error_term = error * sigmoid_prime(h)\n",
        "\n",
        "# TODO: Calcule a variação do peso\n",
        "del_w = learnrate * error_term * x\n"
      ],
      "execution_count": 10,
      "outputs": []
    },
    {
      "cell_type": "code",
      "metadata": {
        "id": "7FAU1USOR0xL",
        "colab": {
          "base_uri": "https://localhost:8080/"
        },
        "outputId": "6a299a71-6398-46ea-d7ee-40bdbbe9553d"
      },
      "source": [
        "print('Saída da Rede Neural:', nn_output)\n",
        "print('Erro:', error)\n",
        "print('Variação dos pesos:', del_w)"
      ],
      "execution_count": 12,
      "outputs": [
        {
          "output_type": "stream",
          "text": [
            "Saída da Rede Neural: 0.7502601055951177\n",
            "Erro: -0.2502601055951177\n",
            "Variação dos pesos: [-0.0234456  -0.04689121 -0.07033681 -0.09378241]\n"
          ],
          "name": "stdout"
        }
      ]
    }
  ]
}