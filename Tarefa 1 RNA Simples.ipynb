{
  "nbformat": 4,
  "nbformat_minor": 0,
  "metadata": {
    "kernelspec": {
      "display_name": "Python 3",
      "language": "python",
      "name": "python3"
    },
    "language_info": {
      "codemirror_mode": {
        "name": "ipython",
        "version": 3
      },
      "file_extension": ".py",
      "mimetype": "text/x-python",
      "name": "python",
      "nbconvert_exporter": "python",
      "pygments_lexer": "ipython3",
      "version": "3.7.3"
    },
    "colab": {
      "name": "Tarefa 1 - RNA Simples.ipynb",
      "provenance": []
    }
  },
  "cells": [
    {
      "cell_type": "markdown",
      "metadata": {
        "id": "9F0AZFlDA7-f"
      },
      "source": [
        "# Rede Neural Simples\n",
        "\n",
        "### Implementando uma RNA Simples\n",
        "\n",
        "O diagrama abaixo mostra uma rede simples. A combinação linear dos pesos, inputs e viés formam o input h, que então é passado pela função de ativação f(h), gerando o output final do perceptron, etiquetado como y.\n",
        "\n",
        "![RNA-simples.png](data:image/png;base64,iVBORw0KGgoAAAANSUhEUgAAAZwAAADKCAIAAAAeg2EwAAAAAXNSR0IArs4c6QAAAARnQU1BAACxjwv8YQUAAAAJcEhZcwAAEnQAABJ0Ad5mH3gAADeuSURBVHhe7Z0HeBv1/f//TxsSCDuMUAJhFigUCvwKBdKwCm1aoECAMlr40TLLbKH5FUKgjLAhJcwkZBBIIPHIsGVLtixveUuWvIe8JN3ptPc8Sfm/5TNCyI5HsCPH+ryez5NHOp3kSN+7170/N6T/t4cgCGIGQVIjCGJGQVIjCGJGQVIjCGJGQVIjCGJGQVIjCGJGQVIjCGJGQVIjCGJGQVIjCGJGQVIjCGJGQVIjCGJGQVIjCGJGQVIjCGJGQVIjCGJGQVIjCGJGQVIjCGJGQVIjCGJGQVIjCGJGQVIjCGJGQVKLwUf3eMJRUzDS7wu3uflGZ6jBEaq3B/Gv2hnqcPNaX9gWigQi0Uh06CkEQUxP0l1qcFQ4uscaihRbAi93upbWW39RZpxfwB6az8zJYw7PZ06SGn5VYfqz0vqOxl1jD7r4mNfIbAQxbUlrqSF5DfjCWaxvSY1lgdRwjISFxQ7OYw4S6X+cG6tZIv1skX5uHnOUmDm+gD1NZri53iIx+Z18BOGOIIhpSJpKDUriAhGpOfCw2n5KkQHa+lGufsyC4+ZJ2HOKuadbHHJbLLUNvRxBENOGtJMaPCQYbbPOe16JcbZoXDpLLKjtsHxmsdycyfo9YdrLRhDTi7STGoxmCUbe0bhOKzKgzUwS1jgLnSnC3QWlxo1aj5vyGkFMJ9JLavCP3h9+V+NaKDXMyUtW1YQKXjtCzJxXwm3Qeh3kNYKYNqSX1EzByA6D70wZN2dfM1piCXltUaVZbAoEqAsliOlBukgNyglH91TbglfJzUlu+iEFrx2az9zeYNX68PIEQaSedJEaGkQ2EH621XF4/oSPDIxes0T604oML3U6Q3T+GkFMA9JFat5wVGLyX1xmhIOSrDRHxBwtZk+WGn5SGDtPbfbgwU3cRh0lZobPP7yOEDOXV5paXHyQmlCCSDVpITV0hqZgZEWH8ygxmygjNI9z8phjJOw1VabXu5wf9LiX1ltOLGR/XsK92BG7+1SzfZ6YHdNrmOEkqeGzfg+duUYQKSctpOYLR7s8/OUVpqTjA7gLhf1ZYb2+2nSkmPl1pekLreffbY6H1bZzSzj8q3YG72ywHjqOjhVZD0LkAuGhP0kQRIpIC6lZQxGZJTBPwiKaxTU0C21jPnNTreUquWnw6ij9+aUcpFZqCVxSbkTvCanlcf5flhvRkMafddDghVPxu/GC+H5azKldITpeQBCpJS2kxsTOTXMnBS7oCensrgYr/CX0oYhymawvh/NBdtDcyVIDNHdIXmy3GpSHLnWh1HBZhfF31ebhZ+3i6ccVsF/ovH7arUYQKSUtpNbj5R9Q2aCnRA1BTHPzYgcEDh6cjtvoHyUm/386nAhxiXNCeUeLmdvqLS93OrfovO9oXMJTEguvdlg+83y7k3arEURqSQupdbj539WYEaaSTARbIYXhXxRS2z9b7CWWwG+qzbibNCecNU/CnFNseK3L+X6Pe7jU8BS0pfc12myhyNBfJQgiFaSF1Fpd/BWVpjl7v3Z9jkh/QiG7tt+9w+A7pcggSA2+g6figoPXTisyvNLpXDWS1FDId0vrrVaSGkGklHSR2uXDpAYHwVnoOoXO8acyrswS+KjXfZQ4Nhs0d4wkdmln/HwO2O3UUaWGGW6tt1iDJDWCSCVpIbV2N39ddXL7CTHNL2CvrTIfI2HnDZ6q1uoKLW93CLvejhYzV8lN11WZ42eBjC41PAo5/oXaT4JINWkhNY2X/9/G5AMFMNRb3a4aW/D3NeZTpDFbqZ2hJ5vtyG5IcKcXGW6vtxxX8N2Zt6NLDbMdms8sa3M46UABQaSUtJCa3h9+vTv5lI4FUva5NsdOg+/GWvOSGjOs90ST/dVO568qjJdXmGC0i8piZ6jBZcL8o0sNve2xBey6AQ9d2E4QqSUtpGYJRiSmwJFiJm4o1GH5zEKp4Q+15vsbrVdUGo8Sx05MW1xpekBlu6XOvKCQTWpXR5ca8t1pMkODI0hBjSBSS1pIzRuOdrj5iweTV1xDkJRwfBN10GAiw13cEKYknaomzD+K1ODEG2otLF0mRRCpJi2khvTEBSL/anUgrCXJaJwl7DI7r4R7V+P6tM89T8LOSehM8egCqQGyc/J0lIAgUkxaSA14wtHdnP/npca4iSZUh+Qxvyjlbq+3rO5xrx/wXF9tPreYQ6wTHj08n7mk3KRwhOirhwgi5aSL1ELRqM4XfqTJnnQMdDwFDwox7dJy46/KjfgXdXqRQWhm8ejJUsMzrY5AJEpKI4iUky5Sg24Qo8otgYvKjInCGmfNil2yHju1DU5E4YawGw41N4/5XY1F46EjBAQxLUgXqQmw/vBmnXehdChk/cCC0Q4W6S8sZrfrPX46k4MgpgfpJTWkqQFfeHm78/gC9gd6LZbRRLoF+QNPFDV1sUae54f+BkEQKSW9pAZCkahx8EjoCYXf+2rviRbaz9MKdM/V9n2RkZWTm9vX1xelXWoEMQ1IO6kJO9f6feHVvZ5TYj/SPuHjBsLpHReWGdf2uzlPYECvF4vF2dnZbW1tgUCA1EYQqSXtpCYQGvyp9izWd3Od5cRCwzgPiUJnR4qZ02WGuxRWsdHv4CNQWDAYZFm2uLgYXlOpVE6nk7xGECkkTaUm4A9H2938h73uyytN8ySx38eD3WKXE3x7ZBOFNnNOHjM3n4HO5hey11abv9B5DYEwn2AunudtNltpaWlGRoZcLvd6vZHIxM7ChQfxIn6/3+Px4Om4LZgRr4OJIBQK4W44HMYM8GZ8BoIgkkhrqcEKoWjUE45qfeFs1vdIk/1KuflMGXe0hB20G4M28/gC9rwS4+9qLP9oceQZ/Vwg7I9EI9//3WL4Bbrx+XwNDQ1ZWVn5+fkWiwVThh4eB4h7BoPh66+/fv7555ctW4ZOFlMwHa9ZWVm5cuXKpqYmCM5qtb777rs33HBDe3u7MANBEEmktdTihCJ7nHwUDanaGSqxBHI4PzrTDMaHf0VGf7k12OLiuUDEF46OcuYGpON2uzs7O3fu3JmXlzcwMCDEqzGBExH0tmzZUl9fj6D38MMPf/zxx3gpTIccX3jhhRtvvBG6xF2Xy/Xqq69ecsklJSUliG9DzycIIgGS2mQC7yBbQWe7d+/etWtXd3d3IBAYsxWF+zo6Oj755BO0lpDakiVLVq9eDX+hx+zv77/55puXLl2q1Wrx4pgTdrvnnnsqKiogNWGKfRDMPPRyBJHekNQmH/iFZVmJRLJ9+3a0jWMeEkUoq6ura25udjqdn3322aJFi9BywlnwIyZefvnly5cvx0PCzDqdDvprbW1F+wn0ev1XX331+eefQ4LCDASR5pDUJh8oDF5DekLs2rp1Kww1+iHRcDiMwOX1evv6+pDCbr/9dqPRiIl4BbSZ5513HvrZ+B40hmGgMKvVilgnk8k+/PDDRx99dNmyZZhZmIEg0hyS2lQBT9lsNkSwHTt2lJWVmc3m0Q8dIJoVFBT89re/ff7554WDm/AXQtlll13W3t4u9LB4BTSkGzduxIsDRDy0pStWrHjmmWfwt4TXIYg0h6Q2hcBEaCHRKsJrIpGI4ziYaG+RDYZC7Lr22mszMzOFKd3d3ffff/+9994Lu+Eunog0Bz8WFRXFXwTPevXVV5999lmSGkEIkNSmFtgHnSP0BK+B3t7eEffoYzb0j+gikdQaGxuFiU1NTYsWLXrllVcsFgvuQpEsy6Kfxb8kNYLYGyS1KQcCQmsJE6G73Llzp0qlGvHQgdPphL/+8Ic/qNVq3MU8SGQXXHDBypUrITUYDS9SWVmJpIaHhKcAkhpBJEFS2x9AYWg80X7KZDJ4TalUQmFJu9jgLLFYjGbziy++MBgMPT09n332GWz12GOPNTc347mdnZ3IemhFE4VIUiOIJEhq+w/ICOqpqanZsmULMhf6zcRT2HDb5XIhnb3zzjuffvrp+vXr5XI52tWPP/74/fffX7duHYym0+mSuleSGkEkQVLbryCdeTwedKAZGRkSicRkMiXGLqHHxAw+nw83gsEg8h3uer1e3EXXiacn9a0kNYJIgqS2v4GYICn0kiKRKC8vD1kM8kpS1XjAU5DazGbzihUrnnjiCZZlhRNBhh4miHSFpJYCoB7ELq1Wm5OTk52drdFoEMQm6iPI0WAwVFdXP/744/fee29xcTH8mLSfjiDSEJJaykCwQvuJsLZt2zaFQjHKKWwjgnzX1dWFHrZgEKlUWl9fH7/wgCDSFpJayoDCIDKHw1FVVZWVlSWTydxu9/ijViQSgcLQyQr4fD6kv8QjDwSRnpDUUgw0BK8plUr0oSUlJUYj/YYLQfwgSGqpB5HN4/F0dnZmZGTk5+fr9Xra5U8Q+wxJbVog9JJ9fX25ubk7duzQaDToTIceIwhiIpDUpguIZoFAgGEYNKFZWVmNjY2Ib5TXCGKikNSmFwhoZrNZJpMhr9XX1zudTtr3TxATgqQ27YDFvF5vdXV1RkZGcXFx0tVUBEGMDklt2oGWU/BaS0sL+lCRSITsRodECWKckNSmKYLXuru7ITWAG/t2NRVBpBsktekLFAaR6XS63bt3Z2dnd3V1+f1+akUJYnRIatMdWMxisRQXF3/55ZcKhcLtdg89QBDESJDUDgBCg7/hUltbm5GRUVpaarfbqQ8liL1BUjsw4HkeGU2pVO7atauoqMhgMKAzBQ6Hgy4/IIhESGoHDDCX3+/v6OjIysrKycnp7+/X6/UymYxhGDo2ShBxSGoHEvCacNXB7t27obaamhqRSCSVSqkhJYg4JLUDDCGv9fb2ogndtm0b7Pb111/X1dVh4tAcBJHekNQOPILBoEqlksvlMNrnn3++bt062E2j0dDZHgQBSGoHGEhqHo+ntrb2m2+++eKLL9avX79mzRqoDX2o2+0mrxEESe3AIxwO+3w+q9WqUCiQ0eC1tWvXbt68ubq6mppQgiCp7Q94nke8am1tzcvLq6ioiH/3BhpJlmUbGxthKGFnmVKpRFNpt9vH/F5vQW0cxzU0NCCmbR2ko6MjkPD77QSRhpDU9gcwWltb24YNGzIzMx9//PGSkhJBPQ6HY+PGjffddx9MB0nZbLYHH3zwiiuuQHc5fjcJT8TrZ2dnFxQUmM3moQcIIi0hqU05CGU6ne6DDz4wmUx1dXX33nvvW2+95Xa7Ec0YhoHRbr31VoQ4Iamhl1y8eHFxcfGEGkn8CSEM9vX1IfrRnjUinSGp7Ynu2eOPRLlApNkVyjb43uh2PdZs/4vSdqfCeq/S9mSz/W2Nazfn7/LwTj7CT/x0MK/XW1lZuXPnTtzIz8+/6qqrkNfQOYZCofb29muvvRbpzGg0Yk5kLgSul156Ce7DDC6XSzh1QyKR9PT0ILtBfMJrjghchtfs8br+1tdyu0a1dCrrNo1qk4XxRKbRz4zy0T0uPtrjDUtMgfc07kfUdozg0nrrbfVW3Hi6xfFRr6fUEhzwhTFbZDqd1ReORq3h0OMD7Ukf8qTXn3ubvrYa/DN9m5fWUgtH98BTPV4eq8GKDucVlaaFUsM8CXtIHnOQSD9LpJ8jYg7PZ04oYH9azF1TZX61y1liCej94WBkAmsF9KRQKBCgLBbL8uXLlyxZ0tHRAfsgWFVVVV1wwQWrVq2KX6aOTCecn4GOEs9Cx4qOct26dcuWLUN8gxZH9xpQ+VwnN5UdpJD+qKFw6mpWQ+EyXSdWxaG/mjrwcWA4DIFIjT24ute9pMbyUxl3fAE7d3AQf5QbKwzlYRjHQvacEg6C26j1NjpDlmAETxx6lZQSika1Qf95LfKkD3nS66jG4uX6bld4hl9/kqZSw7KMDbs9FCk0+bGULyg0CEv/6DU7T39WMfeQ2lZjC3rDE9vao51samq6/vrr//73v0NnSFVw3I4dO84444zS0lI4TpgNDek333zjcDgwc25uLm7AYhzHffrpp1dffXVnZ+eYBxDSSmoYAqTsXi//fLvzgjLjbJH+x8NGbXgdJmYuqzC9r3EjtQUjsYUhtZDUJpc0lRo20W1u/rUu18lSA7bh8U366IUV5uA8BlHu7GLug143G5hA84VecsuWLYsXL169erWwz6u/v3/lypWLFi3SarVC/oKw0G9u2rSJ53n47s4772xoaMBE5Dh0oBdffDEmjrmvLa2kZg5Gsljf+aXGYwfz9XiMhkJww8zHSNjf11oQvX3YPg29XmogqU0uaSc1tJwIWXX24AMq23EFLJbvpCV+zBLUdrqMe6rF0eHmx9nCWK3WFStWXHPNNVKpVJjS2tp61113PfzwwyaTCXdhOkFecrkcjlOpVOg6+/r6hOlisfjCCy/ctWsXSU0An7rWH363x31BqRGG2odxRB0pZi+rNG3SeiFHJPdUQVKbXNJLalhuXXy01RW6rtp8RD6TtIhPqLAWnVhouFth1Q3uYhv6A3sBkjKbzY888siSJUvgMkyBqpDCENzefPNNm82GKehA9Xo9RBa/CxDT8Fyj0bhx48Yrr7yyq6trzC/kGC413J7XWHxKU/lpTeUL1GXzVaXHq0r2VieoSk9Ul56sLju1qfz0poqFTeV47pxhikyt1ELRPZZg5JUu1ylFhiSdYZNzaD6DzdWCQgNiOG5gCzRKgoMQz5BxGYwPLzih/QmTCEltckkvqcE+La7QrfUWLPfjbFVGKTStR4nZJ1scfb6x+1AkteXLl99www1qtRqeQuDKzMy85JJL3njjDeE7Nnw+X35+fm1tLVw29JxB8BCesmzZsuzsbMwzNHXvJEntxw2FRyhlEJCFD/ojYZXX9bXVsNnCjFhbrOxOm7HEaW31uW18KBCJmPjgW2wvZBdfMYRKrdSsociafs/CIsPw/QYH5eoXVZrW9XvKLIE2VyiH80Fto+9emC3SnyXj0MaiDx36A/sXktrkkkZSwwLb4w2/0uk6QryP3crwmi1iTi3i3utxu8fqXuCjqqqqO++887333uvs7FQqle+///5nn322dOnS6urq7u7uurq6jIyMpC8RCgaDWq327bff3rZtm9PpHPMoARie1GYrpBe0VsFWoWhE7XPd3aNGBEMQQ3ZLLExBlDuzueJnLfKLWquv72x4hdFUe+xKr/PC1qqksJZCqeGj3m3wnynj5o4UwTBlnoT9n3Ljix2Ofl/4o173PMkYw42nIK9dXWUutwZSsnNtolLDgKKSJibVrAYphgzDlDiRpDajQGeBlWEb40PDkrRM/5DC+oDu5pJyU7E5MHrzAh+5XK6mpqYNGzZs2rRp69atbW1tEBby1yeffPLll18ipqHxTOwuYTQ0rTBdTk6OxWJBggsEEJ7GWO9G3KeGFvL3XYoWn1sX9K816U5Sl42+ViDfHayQ/kRdemVH3SdG7aP9rVgfEmdIldTw5ptdodvqrXNEo2VtdJ2vdTnbXaGHVLYR3Te8jpWwTzbbbaEIetv9zChSO1hRhLFbqC47slEGSWFYj24s/p+2aqRvYYZDlUXHNpacqC49TClLHHTMfE5zJQYaM8QnktRmFGg82938zXWWpE4Eizu6D2yosegfls/AUPG7aFHx76yEmfdWxxewf2qw2sd3SieCmLCnbOj+4P614arCPBBZbm4uZIfW1e126/V69KFJzelwRpQaJIUW8p/aDkMo0BvwvaDvwvKdtBkfsbBSnaIuv7NHfVZzZeL0lEgNHxk2HR/2ekY/BQdjeorUIDX5a2zBK+Wm8RgNhTR3uowrNAVc+/2Qwd6khlFDfH5O1/lwX8uNXQroDObCxuk3nfXHfLuNubi1+nld10fGgfNb5HMV3/kL26SzmyuWaTshxPgGjKQ2c8BC6uSjG7TeU4sMiYs4bs8RxU49u0dhfanDubrH/WeF9bQiw611lpc7ne9oXI812Y8Uj72dhwrPLTFKzQH/JO1qhvKQ0RDiXnvttcLCwuLi4oKCAvSqCoVi36SGwqYbXkPsYkOBnoDv5u7G+NZ+lMJ6hVUCQQDb/MTpKZFaKBLt84WvqTIfnJc8BImFMf1luVHnC29nvOeVcEmPjlIY61vqLVpfeD8fMRhRaoNhuehZbQec9W9d5+tsz+lN5b9orXqN6fmJqjQ+vghiV3fUyZxW2C0xlAlPX9LZ8JeeJsyPu5hIUps5IKZhEb+v0YYslrgQQ0Y/lcWOYF5UZkRbemOtZaveu6zV8Yca82UVxg963Ggqzy7mxgxrsN78Ava5dqc1NDn7ZCA1NKoPPPDATTfddPvtt98xyJ/+9CedTjfmbrW9SU3Q06VtNbvsRhsfkjjMF7VWJ+0p21vhiUntakqk5glHN2q9C7+/ZRpeh+czdyms1mDkzW7XSdIJ7G3A8nCy1FBkjp25NvQn9wsjSg0f+Amq0vUm3Q1dinNb5Gc3V6KdfFHffU1H/ZEJWyNktz/3NGFMz2yqGDZGUnSmz2g7Lm+vxfKABWA6SA0LsMFoKq+uK66oNhjNIZ4Phfjefq26td3nm5wvzkoLqaGhUDtDaC4Se0+0G9gy31ZvOb+Uw5YfCzQiwC6Dbzfnmydhz5QZXmh3vNXtmjd4VAE96RFi5jgJe0IBe4yERRZIWq/w6BWVJmzkJ2VtgNQMBkNHR4fqW1paWnp6evx+f2LfOiJ7k5pQRzbKbu5Wdgc8Zj64yaw/RV0mbMMnWvtfanjblmDkjgYrRifxkx9exxewK9qd9lDkEbUNG5ujMHAF7LES9ojBs6xHESIGGovB+z1u/KGhv7pfGC41DMpcZdHPW+RbLeyv2msOaojt8r+qo+5lRoPUfEhCmwltvcX2IoAjSiOaJXkNG627e9SP9rcePrjHbUqlxsf0FGOURRQPwVz5RaWqlrY3Vn0Cr/n8fqfL/c6HazZsybA7nEPz/TDSQmrGYORrxjc8pmFBX1pngapw95A8Zmm9RWz0Y31ANMOijxVAkCDuHith/lhrvldpfarZ/lybA00NvBZ/KRRebYHUgA4UQzr0V6cMLBnCXjmBoanfMrrUUPNVpY/0txpDQaxIL+i7sIbsg9emTmqRSGTEdxeK7ml18egrD80b4wTDM2Xc+gEPFwgjcV9QymHUnm21/1+b45Y6C7w2+pFQ1INqe593AteKTAhh/+nQe/v23Q2XGtx0srrsrh71F2bm2s76oxuLD1ZIH+xreXKgfa6iCB9+fE4kuC0W9mlt+yVtNRe2Vs1XlSQ+irqus+Ej4wCUhydOndTwXvr6+trb2/V6PTa98fc49PC3QHzNbR1FZfLG5tblK9/NLZC5Pd5OTe8zK1buzpeS1CbAgC/873bn3O+vDFAVxHTot1tvLO5PNtvRby6pMSdtzOG+RZXGS8uN8yTMQqnhjnpLFuv72ffbUkS5oyUsNvJokYb+6tSAxcJkMuXm5paWlnZ1ddntdixDiT3pmFLD9hwrzBqTlgkFWnxuLPTYjCfNM2ZNndSwVkgkErw74ap+n8+HNQTTveFoiSWAuD1HNIbULqswFpn8nW7+6Wb78jYHRgoj+NtqM0YN6RtBe5SwhvpNtbnZNSUJFMPEcVxeXl55eTnendVqxbuLBZxoJElqyF/39TbvtBmzbNwKfffi9jpMeYXR3K5RIbUlboR+36UoclreNvQigP+xW4l5fqL6XpS7oLVqo1l/aVvNEUrZlEpN+LLSrKyszMzM4uJi9Blms9nj8SRmt3A4ounTOpyubTtyn3/tnU5NXyAQlJVXPfLM8rZOjcc79mmY4yEtpNbt4dG2IEwlLb7xgpLQs3zQ40b7mXQwAXV2Mfd6l/OKytjlOGgzzy3hJEb/g4PnCsTnwfYfdx9q4Bi7a0qBxXQ6nUwm2717d0ZGRnZ2NhYgpVKJ5hSywzJU77BiszyK1LBKYKG/vL0GK4MhFChxWbGRTzxwNp7CizyladI6Jv/dYoNfUlKyc+fObdu27dixA7cbGxvx7vo409Ze2zFjnWOIoby1ztLuDrW5Qv9otp8iNWBcMKAYtS+0nlpbECkb8yQ9K7HOKmLLuaH/zOTicDi0Wi3Ga9euXXh3GDvh3XX2aFQce1ZjafzjRS5bqC7LtnHPajt+2lwxr7H4BFXpKq7/pm5lotFmNUgRuoud1js0KsxwRXst2tVzWyoTt1KnN5V/ZtLeoVHjRQ5vkD6olMtVjUM7NSYPvIuamprCwsLt27d//vnn69ev37x5MwRXVFSEhRMbJ8Fr+JcPh90ez+urPvls01ab3REIBrdm7nph5XucyYzbwgr7A0kLqbW5+aurzKNs4ZHXTi8y5Bv9H/S6jxTHZkN8w6KPwvpwfim3Vef9W6MNs8FrZ8gMOw2+VzudiRdaYbaDcvXXF3RliAsLphixWIxNItaKjRs3fjYIFqOtW7fm5OSUlZXltLcsaCzF9jy+WA8vrBiw2JIuRbPP7Q6HP+D6F3z/4OaYhVe4Uy7NKBAP/Z8mD8Q05FCsGxs2bFgzyNq1a/HutuzM+Xde9aEiXfwzH14YhcPymRXtDq2PF3G+s4sN8b0EZ8liUuvy8IsqTRjE+FOG1/w87buikqH/zWSDd4exw9Yocew2bflq7a4dp9Z97+NF4Cp32ZZqVIhX2ESdqCr91KhFLotLLTaIyqKVbE/sko/GkjkK6aL2WnjwnObKxOPaJ6pL0X4+1t92nKrk0LqCm/Kz13715aQDhW3atAkuW7dunTBkuCGckvn1118PDAx8F9YiET1rWPafN4tK5YhpENyqTzes/2q7C03OOM4tHw9pIbVWF/+rCtOIUhNayKPF7OUVRrUziIZFWA2OEjO/LDfCdLDboXnMiYXs0YMZ4fB85pxiTmYOPPD9pIbCGnVVoUZUVlkxxaB5QVJDivniiy+EFQMLExyHdaa+vj5f0zGm1FBYJearSp4YaLfyoQyr4fzWqqQZRi88/Z7aElFF2dD/afLAu8PmHUkN64MgNawecFyWuPDFIsXcUaWGwZpfwG5nfG3u0GK5CbE6/tAvy4y7Db5mZ+gXpcn7Q5Pq+Dztx7Laof/NZIN3h6SGdxcfO0hty7ZvNhfkJ0oNhrq4tVruti/uqMPmB1JboI5J7Xed30kNE+Gp9WY9YtrsBinqNo3qSwuDnJ7Yfh6vKsFG6yltO24cpZQ9r+u0BvzCHv1JJBgMwly1tbUIofA1RAZ3V1dX9/b2IqImnlLO8+GO7p5/vfSGqrktEokgoCGmFZXJ8SJx8f1A0iWpXSlPltpxBexVctOb3S5I6iQp+2yrQ+UM3qWwwlww3clSw421ZsyD27EanAhtLShk/9Rg2aj1nFX8vWOpeAjz3FLNMU6PdyrBIoIWBqEsMzMTqzpuIPZrNBqO49Dd+P3+Bpft5FHbz3ihYbm1u7HUZf1NZ8N4zllLLKxaT/e26N3Oof/W5IFOMz8/H1kGmkZkw3qCFQPvTmt1bOq1H5b/3Wc+vGCrn5dy6DHFRv8Jg5eyC9MxOjfWWuTWAOLbSVKDsCXbW51YwJRw7qH/zaTidrux5gtJLf7u8H51BkOr1XS26ruwfKiy6ObuxjKX7WfNldg+YTQxWB9xA39ISGoQ389aKjebmSs76jDxKGXxfxjNi/ru+arY1QXxk3XgOCS1B/pajoXUpnKfmlqtRjddV1eHpZFlWbvdjrcM2Qm7ROPgro4xvPTmfxtUzSaL9avtO5DalOqWcHjSjjinhdQ6Pfwf6yxJ+9QWSg2re91ya3BJtRlb71c6nbsMvvsbrdjUI5f9psqMEtpPYX7cQL+J+PZpnxuKTDqWCqPh9R9S2+381J4NgIhutVpLS0sRyrCGOJ3OpGunxjxQgMI6gNXmwtaqtwy98NqRSll8VRlnTd2BAvirsrJSeHeCpoUNuJOPZLKxs23iIzK80FferbA2OkIf97mRr4WtDubH9Gda7Ihp6EzHPCPkTBlXY5+cnTtJYOzMZjPCmkKhiL87TBx+oODoxuInBtq+thgWNpUPftrSYxqLMVi3dDfitjAPes/7eptXcf3nt8gxfGc0VWw06+/uacKwIuXFw9pZzRVrTbolgxckTKnUPB4PrA2R4R2NkrmwrHp9vlxJ0fadooLi8v97+c23Vq/p6ddGJimmgbSQWp83/FSLI2lPCrbkS+stn/V5nmtz3N9ou6jMeFu9BWp7psXxWJP9ykoTOs34zFgxIDhkur+r7YsrEfpiUxLXLqw/R4rZlV0u99Sft4klZpSFZkypYQU4WFF0bov8Q+PA3/vbptspHXt7d55wtNAUWFhkGGU3P4bs7W5XoyP4zxZ7fHQw/3ESdpve2+QM/boytjVKGrukWlRpUjmn5OgnGPHdDT+l40R16etsz0v6btzAXQwQwte/dV339zbPHjyNFhMPV8rWmHT/0nViHpjuus76T4zaxe21j/S3nt5UjiEWXuqytpr1Jt05zZV4hamT2vjhw+He/tgBULvDyXLGp5e/uiOvwOZwjjjo+0ZaSM0QiKwb8CZlK4gJ68AxktjJtHgIOesIMXOUmJknYZDI5nz/ewfn5sVO5rhXGbv24ND82A8XoA9N7Gfx9BMK2R0G3zi/M3LqGFNqsBhakjfZ3qcG2rH93wejoaZOansDH2xjbI+YMWlXZryEHWqI22gzEczj07Exu6zCWGcPZjI+zICnHy2O1d68do/SpvHu19V+uNTOban83Ky7qVsRv8YTTehtGtW/dZ0IXMIZtsja60y66wfPyMEgoj99Ttf5+EDbpW018JcwrPj3hi7lq4zmOFXsSELKpYaYNqBjHlv2Yq1CZbXZSytrVrzxfndPf+JOtx9OWkjNEYr9KseCwuQvFEQN32gPX9axGpxaZEBn+vsa81ky7rQiw6XlxhtqLYnRD5qD77o9fKqdNobUsGQvVJc9q+14Ttc1+pkfiYXNfnzLL9T+lxo+WGycbqq1HCUeuX/EcPy8hKu1B/ON/l+UfnfJ55FiZkWHEz3pv1odGEq0n/corOeWjHD1G4YeG7PXulzG/fsVRHGpYTgOVcogqcUddeglz2yugJ7in/kvWqveMfSeHctcsbHAzKc0lR85eGwUdzFAx6tKTlaX4enCFBgNT3+0vxVN6+Apu6mXGuKYwWha9ekGZVNLVZ0iY1dee5fG6XJPXkqLkRZSC0Sifd7YbrW9beRHLzQvWA0yGO+nfe4Pe92f9Lq36rzXVJmxAggzYGU4toB9tMlu3r+X14zIKFKDiearSh7oa/nSwmDpj+9LHqXwFCS705sqpsO3dLj56Hs97gXSka/9RL6+rsrc4+E3DHiQyISJmBOZWsT5Sy2BP9TEdpKeU8y91un8SWHsEFD8uULNFjHHF7C7Of9Un0GdRFxqCF+/62y4qVt5p0b1CqNBTEu87AkZ7a99zff1Ns0b3zesYBnAduv/dJ3nDu50w5Tp0H6GQnxXT19+USnCmt7ABQLBSWw8BdJCavjM7KHI+z1udIhJy/F46iSp4R8tjje7XW8MFrbkz7U7zpB9t2odJGJOl3HZrN+7f1eGEdmb1Ab1JP1Lb9O7hj5EgKSLBPdWMBp09nB/6znTQGroQJsHr5QanrhRxxWwjzXZBnzhp5rt8f2h6EnPKDKUWwLbGe8FpdzcPP1DKtvVctMheSNE8sPymV/LTfs/bselhibxNbZnhb4LRru2oz5pjIQe8wV9F8YifhxgbyXEtKcH2q/qqIvHvekgNRDbrfgtQ5MmlbSQGvBHovX24FVyU+J5GOMsoWfBNlworDy4m3gs9RgJe321mQlEpoHTRpYaFnFs5//Y3bjWpLuivXbMgwN4VNj1tqRLsdNufEbbgacnzpASqcE1CGv/6XQhF8c//HghfK3qcSkdwV9XmuIHE2Cuo8TMyx3Ob/Te39eYb6mz3K2wHisZIaZhyomFhq90Xmz/9vMwxqWGFvLUpvJft9ee1VwBAQ0fI8yAh5Z2NyYNx/DCnIvb6y5rq0Wsi5+0OE2kNtWki9SgG1so8kGvO96YTFahZ/l5KbdZNx1SWowRpYYl+9rOerHD/C9d5zUd9b9sqx6xLm2rgfJ+09lwi6bxkf7WNSad0uts83uwmh38/RdMidQAfFNlC177/bNthDp68DtXHlTZTij43mkfc0Sx74y8V2n7V6sDMyCtJ53cI9SRYuaOBisXCI/xFcZTQOKBAogMH/XecjQexUOnNJWPeV7hnMGLEA5POGENRVKbaWBRbXHxD6rt0NDw1mPfCrkPqQFry2R9k9oPZ7jUsCac2yL/xmroCfjKXLZCp2XEkjotMqelwm2DyHoCXgsfxNJvCAW+sjDCiQWJlSqpASSpdQMepK0xr2wff2Ecf1Fm3GHwQWj7f9uUKLUpLZLaDATNS7UteMVYV/+Ns2DGw/Jjm3e1c793LHtnuNSwrUbUek7f9QqreYnRvMh0761eipXmZUaDOV9je1Av6Lsvb6+dm/CVqkKlUGr4qA2B8L/anMd/P5Htc8FoJxbGvmEFuhz6G/sXktrkkl5Sw/pgCUbyjP7/KY+dbpa0cE+oZg0eFb2u2iy3BadL5znIcKnNapCiDTlOVTJ/4nVMY4lwNkD81b59zZRJDfgj0V5v+GG1/YTCMb4Fd8xCK7pAani9y6X1hVP1e8YktcklvaQG4B8XHy0w+a8avOB5H1YJPGW2SH9CIXtDrQW5b7J+l2CyGHGf2qRXaqUGMI4dbv5/G21QknCBR9Iwjafm5sd+yfi5Niczjl+knjpIapNL2klNACYqswbvUsR+tWDE8wP2Vlh55ohi1yE80exQT81XCf5A0kRqApDRm90uYd//hLyGmdF1XlhmXNPvcfPj+hmwqYOkNrmkqdSwEGNR7veFN2o9F5QaE7+jZpTCavCTQvayCtPXeq8xENn/h8nGQ1pJDfHKEoxU2YK31FsR2TBA41EbAtrJUsP9jTaFI2QPxU7ESe1AktQmlzSVmkAoEjUFI2gh3+p2L623/qyEm18Q+3kO4cJPFFYSrADzJOxJUgPcd5fCuqrHrXaGvOEUb9tHIa2kBjAQ/nAUreh6rfd+le3iciPsdrQ4djFvPIPP+vZkQ7js13LT48327YxP5wv7wlNz9ucEIalNLmktNQEs1p5wtMcblpkD7/W4/6K0XVFpguBOl3HnlnCL5aa/qmyrez1yW5ALpHLPy+hEB3+NJRgMtrgcF7bIT2kqP1ldNnW1sKn8FbbHMZ1Wj1BkjzkYqbOH1g14H1TZLq0wnSHjYLGFRQbcuLrK/ESz4yu9D9skhLtpNYx8NMrxwcUddUkf8qTXOS2V73F9nshU/azMNIGkFgNLOHoQbDDRUfojUWzAkcVQuIHCFLiMj8ZCwbQlFAqZzWalUllZXa03mTxh3hsJT2lhVZxun0ckJohYT5o4iPGhxOAOjePQ7NOIyJ5oIBpJ+oQnvXyRSHD69hiTBkntAAZW4Xne5XL19/eXlZVlZ2fv2LGjtbV1cr/IhSAOLEhqBx5Cp+nz+RDNuru7ZTLZli1bNg5SUVEBx02/CEUQ+w+S2oFHJBJxOp0NDQ27du1av3792rVr16xZs2HDBpFIZLfbyWhEmkNSO/BATOM4TiwW5+fnZ2VlQWqff/45bhiNRmo8CYKkduABqSGpNTY27t69+6uvvtq6des333zT1NQEo1FMIwiS2gEGjOb1ejUaDaJZRkYGmlD8W1FR4fNNzk/2E8SBDkntAMPhcNTV1W3evFkqlXZ3d1dWVhYWFsZ/1p8gCJLagQGche6S47iioqLMzEx4DR2o3+93u912u512pRFEHJLaAUDs91+93t7eXolEkpOTo1arcVf4AWPIjjIaQSRCUpvWQFiC0VpaWjIyMnJzcwcGBiiXEcQokNSmNeFw2Gq1yuXy7du3FxcX4zYZjSBGh6Q2TUFG8/v9DMMUFBTs2LFDqVS6XC44buhhgiD2Aklt2iG0nB6PR6PR7Nq1C0bDDQhu6GGCIEaFpDbtQBzz+Xy1tbUZGRkikchoNFJAI4jxQ1KbXoRCIZPJhJYzMzOzqqoKeQ1Go+ObBDF+SGrTBbScCGg9PT1SqXTnzp1NTU0ul0s4b4MgiPFDUpsW8DyPUNbW1rZjx47du3drtdpgMDj0GEEQE4GklnoQxywWi1wu37p1a0lJidlspoBGEPsMSS2VRKPRUCjEsixazszMTIVC4XQ66bAAQfwQSGopA/ISztvIzc3NyclpbW0NBALIaNHB7Ob3Bzxen8/vj9BRAoKYCCS11ABtud1upVKJljM/P1+v18dbTiG+NTa3SmRl4qJSeI2OfhLE+CGppQBkNKPRWFJSsm3btsrKStgtseUUpCavbXj57dXPvvi6zx8YeoAgiHFAUtuvII55vd6+vr6CgoLdu3er1eokowFIDVO6NL1v/PfTj9d/GQyl/geDCeIAgqS2nxBUBYV1dnZmZWXBaFDb3s7bwMwKdfNLb66qqK7neTpuQBATgKS2n0BGczqdcrn8m2++kUqlo5+3gYcksrLnXn3bYKTTOwhiYpDU9geBQMBkMonF4uzs7Lq6uuEtZyKwmM/vX79l+wsr39udX/jl9h054iKr3TH0MEEQo0JSm1pgKCisu7s7Ly8vJyenpaXF6/WOfjQzxPNQ2ItvrkJSU6ia+7X6D9dthtfCYYpsBDE2JLWpAubieR4KU6lUWVlZO3fuZBgmNI69/n5/YEDHPPrsClFhcTAYdLk9G7ZkvPvROkwf3YYEQQCS2lQBo5nNZplMtm3btoqKCuHq9PFYyelyF5XLl/3nzeb2TryIze5Y+f7Hr7yz2u0Z+l0CgiBGgaS2B5rxR6LGQKTFFdpp8L+jcT/d4viryvYXpe1vKts/Wx3v97hzOX+3h3fyEX4cVoK5/H7/wMBAQUFBdnZ2c3Oz0+kcv4+sNvvH679847+fGk2WYDDUr9M/8szyD9ZsDIXot4oJYmzSWmrh6B4XH+3zhovMgZc7Xb+uNJ1SZJgnYQ/JYw4S6VFzRMzhYuaEQvasYu7aKvPr3a4Ka5D1h4ORaOxqppFAthLO29i1a1dOTo5Go0ELOSEZmS22l99ZvfHrTDSeXp9PVl710D+ezyssGXqYIIhRSV+pwWhOPiozB/6stJ4kNfwoVz9mzc7Tn13M/b3JXm8P+sIjiApxzOFw1NTUbN26FY0nx3H7kK0sNvs7H63L3J0PqSG1vf/J+rc/XMuZzEMPEwQxKmkqNUStDjf/RrcL0ezw/FguS/LXiPXjXD1C3DES9mcl3Ed9Hi7wXUcJeYXDYVgMLtu+fXttbe0+/04K8lmpvPaTDV+1dWpqGhrfWr3GwJkQAIceJghiVNJOamgbveEootbDavvxBeys8ekssaC2g/OYM2TcP1sdnR4efoS8PB5PV1eXWCzOzc0VztvY5536IZ63O5y1CpW8tqG4vKq3XxsI0BdGEsR4SS+poRV08dE2V2hJjfkIMZNkqwkVbLig0PAXpXXAE7S53O3t7Qhou3bt0mq1+xbQkkA0C4ZCk/JSBJFWpJfUkKpaXaHbG6yH5TMIXEmemmihaT0qX/+3at224sqtW7eWl5fb7XY664IgUksaSQ0xrdcbfq3LdaR4vDvRRi9ocTbyWl7/Q6JauVI1+sVPBEHsH9JFapHoHjcfzWR9pxaN60Dn+Gt2jvYimV5qcO/tJA+CIPYn6SI14XDnLfUWZKskKyUWwtcsUSx/zc1jhLPVkmYYseYXsHcprA4+Sp0nQaSctJAaIpSTj27Uek8rMoy+K22OSH+MhD272HBznWVll/NMmWE8Xjs4jzmvxFhkDvgprRFEqkkLqSGm6fzh+xtth+WPccQTAe1X5cZb6ywr2h2FJv+5JdzoyU4oiHJ+Ibu83WkLUVYjiBSTFlJz8VG1M3SGjBszdkFqR4uZYyXsHQ0WmTlw3vikhjpCzCyqNGn9YYpqBJFa0kJqxmBkG+M7fKyYFq9ZIv0tdRa0k+OXGjrQBVIDnhKia84JIqWkhdQGfOHn2p1IYUkm2lvtg9Qw29ESdlWP20tZjSBSSlpIrdvD/0lhRZhKMtHeah+khqdAmk+22B087VYjiFSSFlJrc/PXVJnniKZQaj8evMDgboXVSscKCCKlpIXUWl38rypMUyo1FLx2c53FEiSpEUQqSZektlg+tVITztq9o4GSGkGkmLSQWqeH/2OdZWr3qQ0eAH1IbbfTPjWCSClpIbU+b/jJFsch45CasGtsTp7+1jpLsTlwQSmHZ2Fi0mzDC886Qsy+1uVy83T0kyBSSVpIzRCIrBnwjnk5AerwfObUIsNlFcaXOhytrtBfG60XlhrH812SiGknFLLZBl+QrpQiiJSSFlJzhCI1tuCJhYYx3YRc9rMS7sZay8Nq2yNq2z0K6++qzaePdcUoCsa8sMzY5eHJaQSRWtJCav5ItM/L31RnGf/5txMqKO/YAvZhtd1Mhz4JItWkhdQQnuyhyHs9bnSIST6alDpIxJwu4zJZH11OQBApJy2kBvzhaK09eKXcNJ6vEppoHSNhr6s26/1hOkhAECknXaSGCGUNRVb1uI8vmOSwNlvEnFfCbdJSSiOIaUG6SA3AOc2u0N9U9tmi2F6wJDftW80a/FLJZ1odVjrqSRDTgzSSGnDz0Spb8LIK03jOWRuzYMbD8pmlDdZGZ4hiGkFME9JLalCPORjJ4fwXlRl/4JHQWbn6YyXsb6rM5dYgdZ4EMX1IL6kB+MfJR8VG/6JK0+H79OufeAoa2PkF7JIas9xKv0tAENOLtJOaAExUYgnc3mCdO3GvwWjzJOzfm+zoOodejiCIaUOaSg3pysVHe73hdQOen5dyR4zvm74PEulPKGQvrTB+qfMaAuEAZTSCmH6kqdQEQpGoKRiR24Kvdbn+WGc5u5g7voBFTzonj5klih3ZhMViP8UiYRcUGs4vNSLZva1xIaB5w1HajUYQ05O0lpoA7OQJR7s9vMQUeKvbfbfCelmF6axi7tQiwznF3CK56b5G2/s97jJrgPGH6cwNgpjmkNRiQFRIXhCWLxxFCnOj+KGC7zDFH4ki1kFopDSCmOaQ1AiCmFGQ1AiCmFGQ1AiCmFGQ1AiCmFGQ1AiCmFGQ1AiCmFGQ1AiCmFGQ1AiCmFGQ1AiCmFGQ1AiCmFGQ1AiCmEHs2fP/AUlaSdZpoIcSAAAAAElFTkSuQmCC)\n",
        "<p style=\"text-align:center\">  <i> Diagrama de uma rede neural simples</i> </p>\n",
        "\n",
        "Círculos são unidades, caixas são operações. O que faz as redes neurais possíveis, é que a função de ativação, f(h) pode ser qualquer função, não apenas a função degrau.\n",
        "\n",
        "<p> Por exemplo, caso f(h)=h, o output será o mesmo que o input. Agora o output da rede é </p>\n",
        "\n",
        "<p style=\"text-align:center\"> $$h = \\frac 1n\\sum_{i=1}^n(w_i*x_i)+b$$  </p>\n",
        "\n",
        "<p> Essa equação deveria ser familiar para você, pois é a mesma do modelo de regressão linear!\n",
        "Outras funções de ativação comuns são a função logística (também chamada de sigmóide), tanh e a função softmax. Nós iremos trabalhar principalmente com a função sigmóide pelo resto dessa aula:</p>\n",
        "\n",
        "\n",
        "$$f(h) = sigmoid(h)=\\frac 1 {1+e^{-h}}$$\n",
        "    \n",
        "\n"
      ]
    },
    {
      "cell_type": "markdown",
      "metadata": {
        "id": "Fl1M3zOyA7-p"
      },
      "source": [
        "## Vamos implementar uma RNA de apenas um neurônio!\n",
        "\n",
        "#### Importando a biblioteca"
      ]
    },
    {
      "cell_type": "code",
      "metadata": {
        "id": "1G4qCNFyA7-u"
      },
      "source": [
        "import numpy as np"
      ],
      "execution_count": 1,
      "outputs": []
    },
    {
      "cell_type": "markdown",
      "metadata": {
        "id": "JlrVmQPvA7-w"
      },
      "source": [
        "#### Função do cáculo da sigmóide"
      ]
    },
    {
      "cell_type": "code",
      "metadata": {
        "id": "YeK0BB5uA7-z"
      },
      "source": [
        "def sigmoid(x):\n",
        "    return 1/(1+np.exp(-x))"
      ],
      "execution_count": 2,
      "outputs": []
    },
    {
      "cell_type": "markdown",
      "metadata": {
        "id": "LgUl91ZgA7-1"
      },
      "source": [
        "#### Vetor dos valores de entrada"
      ]
    },
    {
      "cell_type": "code",
      "metadata": {
        "id": "nmdzdRHRA7-4"
      },
      "source": [
        "x = np.array([0.8,-0.3])\n",
        "b=0.1"
      ],
      "execution_count": 3,
      "outputs": []
    },
    {
      "cell_type": "markdown",
      "metadata": {
        "id": "jflEOIgiA7-9"
      },
      "source": [
        "#### Pesos das ligações sinápticas"
      ]
    },
    {
      "cell_type": "code",
      "metadata": {
        "id": "dsKMT-tsA7_B"
      },
      "source": [
        "w = np.array([0.2,-0.1])"
      ],
      "execution_count": 4,
      "outputs": []
    },
    {
      "cell_type": "markdown",
      "metadata": {
        "id": "8_rFeWWEA7_F"
      },
      "source": [
        "#### Calcule a combinação linear de entradas e pesos sinápticos"
      ]
    },
    {
      "cell_type": "code",
      "metadata": {
        "id": "jYAv4LlwA7_I"
      },
      "source": [
        "h=np.dot(x,w)+b"
      ],
      "execution_count": 5,
      "outputs": []
    },
    {
      "cell_type": "markdown",
      "metadata": {
        "id": "09wFXWJ0A7_J"
      },
      "source": [
        "#### Aplicado a função de ativação do neurônio"
      ]
    },
    {
      "cell_type": "code",
      "metadata": {
        "id": "-dt73bdcA7_L"
      },
      "source": [
        "y=sigmoid(h)"
      ],
      "execution_count": 6,
      "outputs": []
    },
    {
      "cell_type": "code",
      "metadata": {
        "colab": {
          "base_uri": "https://localhost:8080/"
        },
        "id": "jeFlE0NsA7_L",
        "outputId": "276ed789-7a47-4518-a9fd-df9b1948bdb8"
      },
      "source": [
        "print('Saída da rede:', y)"
      ],
      "execution_count": 7,
      "outputs": [
        {
          "output_type": "stream",
          "text": [
            "Saída da rede: 0.5719961329315186\n"
          ],
          "name": "stdout"
        }
      ]
    }
  ]
}